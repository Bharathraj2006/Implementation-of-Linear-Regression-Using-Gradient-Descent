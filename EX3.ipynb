{
 "cells": [
  {
   "cell_type": "code",
   "execution_count": 19,
   "metadata": {},
   "outputs": [],
   "source": [
    "import numpy as np\n",
    "import pandas as pd\n",
    "from sklearn.preprocessing import StandardScaler\n",
    "\n",
    "def linear_regression(X1, y, learning_rate=0.01, num_iters=1000):\n",
    "    X = np.c_[np.ones(len(X1)), X1]\n",
    "    theta = np.zeros(X.shape[1]).reshape(-1,1)\n",
    "    for _ in range(num_iters):\n",
    "        predictions = (X).dot(theta).reshape(-1, 1)\n",
    "        errors = (predictions - y).reshape(-1,1)\n",
    "        theta -= learning_rate * (1 / len(X1)) * X.T.dot(errors)\n",
    "\n",
    "    return theta\n"
   ]
  },
  {
   "cell_type": "code",
   "execution_count": null,
   "metadata": {},
   "outputs": [
    {
     "data": {
      "text/html": [
       "<div>\n",
       "<style scoped>\n",
       "    .dataframe tbody tr th:only-of-type {\n",
       "        vertical-align: middle;\n",
       "    }\n",
       "\n",
       "    .dataframe tbody tr th {\n",
       "        vertical-align: top;\n",
       "    }\n",
       "\n",
       "    .dataframe thead th {\n",
       "        text-align: right;\n",
       "    }\n",
       "</style>\n",
       "<table border=\"1\" class=\"dataframe\">\n",
       "  <thead>\n",
       "    <tr style=\"text-align: right;\">\n",
       "      <th></th>\n",
       "      <th>0</th>\n",
       "      <th>1</th>\n",
       "      <th>2</th>\n",
       "      <th>3</th>\n",
       "      <th>4</th>\n",
       "    </tr>\n",
       "  </thead>\n",
       "  <tbody>\n",
       "    <tr>\n",
       "      <th>0</th>\n",
       "      <td>R&amp;D Spend</td>\n",
       "      <td>Administration</td>\n",
       "      <td>Marketing Spend</td>\n",
       "      <td>State</td>\n",
       "      <td>Profit</td>\n",
       "    </tr>\n",
       "    <tr>\n",
       "      <th>1</th>\n",
       "      <td>165349.2</td>\n",
       "      <td>136897.8</td>\n",
       "      <td>471784.1</td>\n",
       "      <td>New York</td>\n",
       "      <td>192261.83</td>\n",
       "    </tr>\n",
       "    <tr>\n",
       "      <th>2</th>\n",
       "      <td>162597.7</td>\n",
       "      <td>151377.59</td>\n",
       "      <td>443898.53</td>\n",
       "      <td>California</td>\n",
       "      <td>191792.06</td>\n",
       "    </tr>\n",
       "    <tr>\n",
       "      <th>3</th>\n",
       "      <td>153441.51</td>\n",
       "      <td>101145.55</td>\n",
       "      <td>407934.54</td>\n",
       "      <td>Florida</td>\n",
       "      <td>191050.39</td>\n",
       "    </tr>\n",
       "    <tr>\n",
       "      <th>4</th>\n",
       "      <td>144372.41</td>\n",
       "      <td>118671.85</td>\n",
       "      <td>383199.62</td>\n",
       "      <td>New York</td>\n",
       "      <td>182901.99</td>\n",
       "    </tr>\n",
       "  </tbody>\n",
       "</table>\n",
       "</div>"
      ],
      "text/plain": [
       "           0               1                2           3          4\n",
       "0  R&D Spend  Administration  Marketing Spend       State     Profit\n",
       "1   165349.2        136897.8         471784.1    New York  192261.83\n",
       "2   162597.7       151377.59        443898.53  California  191792.06\n",
       "3  153441.51       101145.55        407934.54     Florida  191050.39\n",
       "4  144372.41       118671.85        383199.62    New York  182901.99"
      ]
     },
     "execution_count": 20,
     "metadata": {},
     "output_type": "execute_result"
    }
   ],
   "source": [
    "data = pd.read_csv('50_Startups.csv',header=None)\n",
    "data.head()\n"
   ]
  },
  {
   "cell_type": "code",
   "execution_count": 21,
   "metadata": {},
   "outputs": [
    {
     "name": "stdout",
     "output_type": "stream",
     "text": [
      "[[165349.2  136897.8  471784.1 ]\n",
      " [162597.7  151377.59 443898.53]\n",
      " [153441.51 101145.55 407934.54]\n",
      " [144372.41 118671.85 383199.62]\n",
      " [142107.34  91391.77 366168.42]\n",
      " [131876.9   99814.71 362861.36]\n",
      " [134615.46 147198.87 127716.82]\n",
      " [130298.13 145530.06 323876.68]\n",
      " [120542.52 148718.95 311613.29]\n",
      " [123334.88 108679.17 304981.62]\n",
      " [101913.08 110594.11 229160.95]\n",
      " [100671.96  91790.61 249744.55]\n",
      " [ 93863.75 127320.38 249839.44]\n",
      " [ 91992.39 135495.07 252664.93]\n",
      " [119943.24 156547.42 256512.92]\n",
      " [114523.61 122616.84 261776.23]\n",
      " [ 78013.11 121597.55 264346.06]\n",
      " [ 94657.16 145077.58 282574.31]\n",
      " [ 91749.16 114175.79 294919.57]\n",
      " [ 86419.7  153514.11      0.  ]\n",
      " [ 76253.86 113867.3  298664.47]\n",
      " [ 78389.47 153773.43 299737.29]\n",
      " [ 73994.56 122782.75 303319.26]\n",
      " [ 67532.53 105751.03 304768.73]\n",
      " [ 77044.01  99281.34 140574.81]\n",
      " [ 64664.71 139553.16 137962.62]\n",
      " [ 75328.87 144135.98 134050.07]\n",
      " [ 72107.6  127864.55 353183.81]\n",
      " [ 66051.52 182645.56 118148.2 ]\n",
      " [ 65605.48 153032.06 107138.38]\n",
      " [ 61994.48 115641.28  91131.24]\n",
      " [ 61136.38 152701.92  88218.23]\n",
      " [ 63408.86 129219.61  46085.25]\n",
      " [ 55493.95 103057.49 214634.81]\n",
      " [ 46426.07 157693.92 210797.67]\n",
      " [ 46014.02  85047.44 205517.64]\n",
      " [ 28663.76 127056.21 201126.82]\n",
      " [ 44069.95  51283.14 197029.42]\n",
      " [ 20229.59  65947.93 185265.1 ]\n",
      " [ 38558.51  82982.09 174999.3 ]\n",
      " [ 28754.33 118546.05 172795.67]\n",
      " [ 27892.92  84710.77 164470.71]\n",
      " [ 23640.93  96189.63 148001.11]\n",
      " [ 15505.73 127382.3   35534.17]\n",
      " [ 22177.74 154806.14  28334.72]\n",
      " [  1000.23 124153.04   1903.93]\n",
      " [  1315.46 115816.21 297114.46]\n",
      " [     0.   135426.92      0.  ]\n",
      " [   542.05  51743.15      0.  ]\n",
      " [     0.   116983.8   45173.06]]\n"
     ]
    }
   ],
   "source": [
    "X = (data.iloc[1:, :-2].values)\n",
    "X1=X.astype(float)\n",
    "scaler = StandardScaler()\n",
    "print(X1)"
   ]
  },
  {
   "cell_type": "code",
   "execution_count": 22,
   "metadata": {},
   "outputs": [
    {
     "name": "stdout",
     "output_type": "stream",
     "text": [
      "[['192261.83']\n",
      " ['191792.06']\n",
      " ['191050.39']\n",
      " ['182901.99']\n",
      " ['166187.94']\n",
      " ['156991.12']\n",
      " ['156122.51']\n",
      " ['155752.6']\n",
      " ['152211.77']\n",
      " ['149759.96']\n",
      " ['146121.95']\n",
      " ['144259.4']\n",
      " ['141585.52']\n",
      " ['134307.35']\n",
      " ['132602.65']\n",
      " ['129917.04']\n",
      " ['126992.93']\n",
      " ['125370.37']\n",
      " ['124266.9']\n",
      " ['122776.86']\n",
      " ['118474.03']\n",
      " ['111313.02']\n",
      " ['110352.25']\n",
      " ['108733.99']\n",
      " ['108552.04']\n",
      " ['107404.34']\n",
      " ['105733.54']\n",
      " ['105008.31']\n",
      " ['103282.38']\n",
      " ['101004.64']\n",
      " ['99937.59']\n",
      " ['97483.56']\n",
      " ['97427.84']\n",
      " ['96778.92']\n",
      " ['96712.8']\n",
      " ['96479.51']\n",
      " ['90708.19']\n",
      " ['89949.14']\n",
      " ['81229.06']\n",
      " ['81005.76']\n",
      " ['78239.91']\n",
      " ['77798.83']\n",
      " ['71498.49']\n",
      " ['69758.98']\n",
      " ['65200.33']\n",
      " ['64926.08']\n",
      " ['49490.75']\n",
      " ['42559.73']\n",
      " ['35673.41']\n",
      " ['14681.4']]\n"
     ]
    }
   ],
   "source": [
    "y = (data.iloc[1:,-1].values).reshape(-1,1)\n",
    "print(y)"
   ]
  },
  {
   "cell_type": "code",
   "execution_count": 23,
   "metadata": {},
   "outputs": [
    {
     "name": "stdout",
     "output_type": "stream",
     "text": [
      "Predicted value: [[203866.53076613]]\n"
     ]
    }
   ],
   "source": [
    "X1_Scaled = scaler.fit_transform(X1)\n",
    "Y1_Scaled = scaler.fit_transform(y)\n",
    "theta = linear_regression(X1_Scaled, Y1_Scaled)\n",
    "new_data = np.array([165349.2,136897.8,471784.1]).reshape(-1,1)\n",
    "new_Scaled = scaler.fit_transform(new_data)\n",
    "prediction =np.dot(np.append(1, new_Scaled), theta)\n",
    "prediction=prediction.reshape(-1,1)\n",
    "pre=scaler.inverse_transform(prediction)\n",
    "print(f\"Predicted value: {pre}\")"
   ]
  }
 ],
 "metadata": {
  "kernelspec": {
   "display_name": "Python 3",
   "language": "python",
   "name": "python3"
  },
  "language_info": {
   "codemirror_mode": {
    "name": "ipython",
    "version": 3
   },
   "file_extension": ".py",
   "mimetype": "text/x-python",
   "name": "python",
   "nbconvert_exporter": "python",
   "pygments_lexer": "ipython3",
   "version": "3.12.1"
  }
 },
 "nbformat": 4,
 "nbformat_minor": 2
}
